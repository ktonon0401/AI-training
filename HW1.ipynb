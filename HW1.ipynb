{
  "nbformat": 4,
  "nbformat_minor": 0,
  "metadata": {
    "colab": {
      "name": "HW1.ipynb",
      "provenance": [],
      "collapsed_sections": [],
      "mount_file_id": "1DFsZ5bCTl3ybKWrTzDVEDef23o2Qrk0V",
      "authorship_tag": "ABX9TyORFuFmV4oM4UTSYLjZ33Av",
      "include_colab_link": true
    },
    "kernelspec": {
      "name": "python3",
      "display_name": "Python 3"
    },
    "language_info": {
      "name": "python"
    }
  },
  "cells": [
    {
      "cell_type": "markdown",
      "metadata": {
        "id": "view-in-github",
        "colab_type": "text"
      },
      "source": [
        "<a href=\"https://colab.research.google.com/github/ktonon0401/AI-training/blob/main/HW1.ipynb\" target=\"_parent\"><img src=\"https://colab.research.google.com/assets/colab-badge.svg\" alt=\"Open In Colab\"/></a>"
      ]
    },
    {
      "cell_type": "code",
      "execution_count": null,
      "metadata": {
        "colab": {
          "base_uri": "https://localhost:8080/"
        },
        "id": "8VvIOXwsiWUu",
        "outputId": "948bf249-c501-4ef8-98e6-4659cf3919d9"
      },
      "outputs": [
        {
          "output_type": "stream",
          "name": "stdout",
          "text": [
            "Collecting scikit-fuzzy\n",
            "  Downloading scikit-fuzzy-0.4.2.tar.gz (993 kB)\n",
            "\u001b[?25l\r\u001b[K     |▎                               | 10 kB 7.5 MB/s eta 0:00:01\r\u001b[K     |▋                               | 20 kB 11.5 MB/s eta 0:00:01\r\u001b[K     |█                               | 30 kB 9.8 MB/s eta 0:00:01\r\u001b[K     |█▎                              | 40 kB 3.7 MB/s eta 0:00:01\r\u001b[K     |█▋                              | 51 kB 3.7 MB/s eta 0:00:01\r\u001b[K     |██                              | 61 kB 4.4 MB/s eta 0:00:01\r\u001b[K     |██▎                             | 71 kB 4.7 MB/s eta 0:00:01\r\u001b[K     |██▋                             | 81 kB 4.6 MB/s eta 0:00:01\r\u001b[K     |███                             | 92 kB 5.1 MB/s eta 0:00:01\r\u001b[K     |███▎                            | 102 kB 4.3 MB/s eta 0:00:01\r\u001b[K     |███▋                            | 112 kB 4.3 MB/s eta 0:00:01\r\u001b[K     |████                            | 122 kB 4.3 MB/s eta 0:00:01\r\u001b[K     |████▎                           | 133 kB 4.3 MB/s eta 0:00:01\r\u001b[K     |████▋                           | 143 kB 4.3 MB/s eta 0:00:01\r\u001b[K     |█████                           | 153 kB 4.3 MB/s eta 0:00:01\r\u001b[K     |█████▎                          | 163 kB 4.3 MB/s eta 0:00:01\r\u001b[K     |█████▋                          | 174 kB 4.3 MB/s eta 0:00:01\r\u001b[K     |██████                          | 184 kB 4.3 MB/s eta 0:00:01\r\u001b[K     |██████▎                         | 194 kB 4.3 MB/s eta 0:00:01\r\u001b[K     |██████▋                         | 204 kB 4.3 MB/s eta 0:00:01\r\u001b[K     |███████                         | 215 kB 4.3 MB/s eta 0:00:01\r\u001b[K     |███████▎                        | 225 kB 4.3 MB/s eta 0:00:01\r\u001b[K     |███████▋                        | 235 kB 4.3 MB/s eta 0:00:01\r\u001b[K     |████████                        | 245 kB 4.3 MB/s eta 0:00:01\r\u001b[K     |████████▎                       | 256 kB 4.3 MB/s eta 0:00:01\r\u001b[K     |████████▋                       | 266 kB 4.3 MB/s eta 0:00:01\r\u001b[K     |█████████                       | 276 kB 4.3 MB/s eta 0:00:01\r\u001b[K     |█████████▎                      | 286 kB 4.3 MB/s eta 0:00:01\r\u001b[K     |█████████▋                      | 296 kB 4.3 MB/s eta 0:00:01\r\u001b[K     |██████████                      | 307 kB 4.3 MB/s eta 0:00:01\r\u001b[K     |██████████▏                     | 317 kB 4.3 MB/s eta 0:00:01\r\u001b[K     |██████████▌                     | 327 kB 4.3 MB/s eta 0:00:01\r\u001b[K     |██████████▉                     | 337 kB 4.3 MB/s eta 0:00:01\r\u001b[K     |███████████▏                    | 348 kB 4.3 MB/s eta 0:00:01\r\u001b[K     |███████████▌                    | 358 kB 4.3 MB/s eta 0:00:01\r\u001b[K     |███████████▉                    | 368 kB 4.3 MB/s eta 0:00:01\r\u001b[K     |████████████▏                   | 378 kB 4.3 MB/s eta 0:00:01\r\u001b[K     |████████████▌                   | 389 kB 4.3 MB/s eta 0:00:01\r\u001b[K     |████████████▉                   | 399 kB 4.3 MB/s eta 0:00:01\r\u001b[K     |█████████████▏                  | 409 kB 4.3 MB/s eta 0:00:01\r\u001b[K     |█████████████▌                  | 419 kB 4.3 MB/s eta 0:00:01\r\u001b[K     |█████████████▉                  | 430 kB 4.3 MB/s eta 0:00:01\r\u001b[K     |██████████████▏                 | 440 kB 4.3 MB/s eta 0:00:01\r\u001b[K     |██████████████▌                 | 450 kB 4.3 MB/s eta 0:00:01\r\u001b[K     |██████████████▉                 | 460 kB 4.3 MB/s eta 0:00:01\r\u001b[K     |███████████████▏                | 471 kB 4.3 MB/s eta 0:00:01\r\u001b[K     |███████████████▌                | 481 kB 4.3 MB/s eta 0:00:01\r\u001b[K     |███████████████▉                | 491 kB 4.3 MB/s eta 0:00:01\r\u001b[K     |████████████████▏               | 501 kB 4.3 MB/s eta 0:00:01\r\u001b[K     |████████████████▌               | 512 kB 4.3 MB/s eta 0:00:01\r\u001b[K     |████████████████▉               | 522 kB 4.3 MB/s eta 0:00:01\r\u001b[K     |█████████████████▏              | 532 kB 4.3 MB/s eta 0:00:01\r\u001b[K     |█████████████████▌              | 542 kB 4.3 MB/s eta 0:00:01\r\u001b[K     |█████████████████▉              | 552 kB 4.3 MB/s eta 0:00:01\r\u001b[K     |██████████████████▏             | 563 kB 4.3 MB/s eta 0:00:01\r\u001b[K     |██████████████████▌             | 573 kB 4.3 MB/s eta 0:00:01\r\u001b[K     |██████████████████▉             | 583 kB 4.3 MB/s eta 0:00:01\r\u001b[K     |███████████████████▏            | 593 kB 4.3 MB/s eta 0:00:01\r\u001b[K     |███████████████████▌            | 604 kB 4.3 MB/s eta 0:00:01\r\u001b[K     |███████████████████▉            | 614 kB 4.3 MB/s eta 0:00:01\r\u001b[K     |████████████████████            | 624 kB 4.3 MB/s eta 0:00:01\r\u001b[K     |████████████████████▍           | 634 kB 4.3 MB/s eta 0:00:01\r\u001b[K     |████████████████████▊           | 645 kB 4.3 MB/s eta 0:00:01\r\u001b[K     |█████████████████████           | 655 kB 4.3 MB/s eta 0:00:01\r\u001b[K     |█████████████████████▍          | 665 kB 4.3 MB/s eta 0:00:01\r\u001b[K     |█████████████████████▊          | 675 kB 4.3 MB/s eta 0:00:01\r\u001b[K     |██████████████████████          | 686 kB 4.3 MB/s eta 0:00:01\r\u001b[K     |██████████████████████▍         | 696 kB 4.3 MB/s eta 0:00:01\r\u001b[K     |██████████████████████▊         | 706 kB 4.3 MB/s eta 0:00:01\r\u001b[K     |███████████████████████         | 716 kB 4.3 MB/s eta 0:00:01\r\u001b[K     |███████████████████████▍        | 727 kB 4.3 MB/s eta 0:00:01\r\u001b[K     |███████████████████████▊        | 737 kB 4.3 MB/s eta 0:00:01\r\u001b[K     |████████████████████████        | 747 kB 4.3 MB/s eta 0:00:01\r\u001b[K     |████████████████████████▍       | 757 kB 4.3 MB/s eta 0:00:01\r\u001b[K     |████████████████████████▊       | 768 kB 4.3 MB/s eta 0:00:01\r\u001b[K     |█████████████████████████       | 778 kB 4.3 MB/s eta 0:00:01\r\u001b[K     |█████████████████████████▍      | 788 kB 4.3 MB/s eta 0:00:01\r\u001b[K     |█████████████████████████▊      | 798 kB 4.3 MB/s eta 0:00:01\r\u001b[K     |██████████████████████████      | 808 kB 4.3 MB/s eta 0:00:01\r\u001b[K     |██████████████████████████▍     | 819 kB 4.3 MB/s eta 0:00:01\r\u001b[K     |██████████████████████████▊     | 829 kB 4.3 MB/s eta 0:00:01\r\u001b[K     |███████████████████████████     | 839 kB 4.3 MB/s eta 0:00:01\r\u001b[K     |███████████████████████████▍    | 849 kB 4.3 MB/s eta 0:00:01\r\u001b[K     |███████████████████████████▊    | 860 kB 4.3 MB/s eta 0:00:01\r\u001b[K     |████████████████████████████    | 870 kB 4.3 MB/s eta 0:00:01\r\u001b[K     |████████████████████████████▍   | 880 kB 4.3 MB/s eta 0:00:01\r\u001b[K     |████████████████████████████▊   | 890 kB 4.3 MB/s eta 0:00:01\r\u001b[K     |█████████████████████████████   | 901 kB 4.3 MB/s eta 0:00:01\r\u001b[K     |█████████████████████████████▍  | 911 kB 4.3 MB/s eta 0:00:01\r\u001b[K     |█████████████████████████████▊  | 921 kB 4.3 MB/s eta 0:00:01\r\u001b[K     |██████████████████████████████  | 931 kB 4.3 MB/s eta 0:00:01\r\u001b[K     |██████████████████████████████▎ | 942 kB 4.3 MB/s eta 0:00:01\r\u001b[K     |██████████████████████████████▋ | 952 kB 4.3 MB/s eta 0:00:01\r\u001b[K     |███████████████████████████████ | 962 kB 4.3 MB/s eta 0:00:01\r\u001b[K     |███████████████████████████████▎| 972 kB 4.3 MB/s eta 0:00:01\r\u001b[K     |███████████████████████████████▋| 983 kB 4.3 MB/s eta 0:00:01\r\u001b[K     |████████████████████████████████| 993 kB 4.3 MB/s eta 0:00:01\r\u001b[K     |████████████████████████████████| 993 kB 4.3 MB/s \n",
            "\u001b[?25hRequirement already satisfied: numpy>=1.6.0 in /usr/local/lib/python3.7/dist-packages (from scikit-fuzzy) (1.21.5)\n",
            "Requirement already satisfied: scipy>=0.9.0 in /usr/local/lib/python3.7/dist-packages (from scikit-fuzzy) (1.4.1)\n",
            "Requirement already satisfied: networkx>=1.9.0 in /usr/local/lib/python3.7/dist-packages (from scikit-fuzzy) (2.6.3)\n",
            "Building wheels for collected packages: scikit-fuzzy\n",
            "  Building wheel for scikit-fuzzy (setup.py) ... \u001b[?25l\u001b[?25hdone\n",
            "  Created wheel for scikit-fuzzy: filename=scikit_fuzzy-0.4.2-py3-none-any.whl size=894089 sha256=814c333c7047f3918d6770e4bfe5815c7a486d58b053eca562477860f5f65f64\n",
            "  Stored in directory: /root/.cache/pip/wheels/d5/74/fc/38588a3d2e3f34f74588e6daa3aa5b0a322bd6f9420a707131\n",
            "Successfully built scikit-fuzzy\n",
            "Installing collected packages: scikit-fuzzy\n",
            "Successfully installed scikit-fuzzy-0.4.2\n"
          ]
        }
      ],
      "source": [
        "pip install scikit-fuzzy"
      ]
    },
    {
      "cell_type": "code",
      "source": [
        "#07550755"
      ],
      "metadata": {
        "id": "9Gir8G2ziw0b"
      },
      "execution_count": null,
      "outputs": []
    },
    {
      "cell_type": "markdown",
      "source": [
        ""
      ],
      "metadata": {
        "id": "GMaIoclCiyDg"
      }
    },
    {
      "cell_type": "code",
      "source": [
        "import numpy as np\n",
        "import skfuzzy as fuzz\n",
        "from skfuzzy import control as ctrl\n",
        "\n",
        "taste = ctrl.Antecedent(np.arange(0,4,0.5),'taste')\n",
        "envi = ctrl.Antecedent(np.arange(0,4,0.5),'envi')\n",
        "budget = ctrl.Antecedent(np.arange(0,4,0.5),'budget')\n",
        "user_review = ctrl.Antecedent(np.arange(0,4,0.5),'user_review')\n",
        "location = ctrl.Antecedent(np.arange(0,4,0.5),'location')\n",
        "score = ctrl.Consequent(np.arange(0,11,0.5),'score')\n",
        "#Tạo membership tự động\n",
        "taste_level=envi_level=budget_level=user_review_level=location_level=['less','medium','high']\n",
        "taste.automf(names=taste_level)\n",
        "envi.automf(names=envi_level)\n",
        "budget.automf(names=budget_level)\n",
        "user_review.automf(names=user_review_level)\n",
        "location.automf(names=location_level)\n",
        "\n",
        "#Tạo membership bằng tay\n",
        "score['level1']=fuzz.trimf(score.universe,[0,1.5,3])\n",
        "score['level2']=fuzz.trimf(score.universe,[1.5,3,4.5])\n",
        "score['level3']=fuzz.trimf(score.universe,[3,4.5,6])\n",
        "score['level4']=fuzz.trimf(score.universe,[4.5,6,7.5])\n",
        "score['level5']=fuzz.trimf(score.universe,[6,7.5,9])\n",
        "\n",
        "rule1=ctrl.Rule(taste['less']&envi['less']&budget['less']&user_review['less']&location['less'],score['level2'])\n",
        "rule2=ctrl.Rule(taste['medium']&envi['less']&budget['less']&user_review['less']&location['less'],score['level2'])\n",
        "rule3=ctrl.Rule(taste['medium']&envi['medium']&budget['less']&user_review['less']&location['less'],score['level3'])\n",
        "rule4=ctrl.Rule(taste['medium']&envi['medium']&budget['medium']&user_review['less']&location['less'],score['level3'])\n",
        "rule5=ctrl.Rule(taste['medium']&envi['medium']&budget['medium']&user_review['high']&location['less'],score['level3'])\n",
        "rule6=ctrl.Rule(taste['high']&envi['medium']&budget['medium']&user_review['less']&location['less'],score['level4'])\n",
        "rule7=ctrl.Rule(taste['medium']&envi['high']&budget['medium']&user_review['medium']&location['less'],score['level4'])\n",
        "rule8=ctrl.Rule(taste['medium']&envi['high']&budget['high']&user_review['medium']&location['less'],score['level4'])\n",
        "rule9=ctrl.Rule(taste['medium']&envi['high']&budget['medium']&user_review['high']&location['high'],score['level5'])\n",
        "rule10=ctrl.Rule(taste['high']&envi['medium']&budget['high']&user_review['high']&location['high'],score['level5'])\n",
        "rule11=ctrl.Rule(taste['high']&envi['high']&budget['high']&user_review['high']&location['high'],score['level5'])\n",
        "\n",
        "# rule1.view()\n",
        "score_ctrl = ctrl.ControlSystem([rule1,rule2,rule3,rule4,rule5,rule6,rule7,rule8,rule9,rule10,rule11])\n",
        "score_out = ctrl.ControlSystemSimulation(score_ctrl)\n",
        "score_out.input['taste']=3\n",
        "score_out.input['envi']=3\n",
        "score_out.input['budget']=2\n",
        "score_out.input['user_review']=1\n",
        "score_out.input['location']=1\n",
        "score_out.compute()\n",
        "print(score_out.output['score'])\n",
        "score.view(sim = score_out)"
      ],
      "metadata": {
        "colab": {
          "base_uri": "https://localhost:8080/",
          "height": 298
        },
        "id": "z5akFZV9irzR",
        "outputId": "0cd30a98-20b1-4e84-d82e-c6b7160b8ef4"
      },
      "execution_count": 11,
      "outputs": [
        {
          "output_type": "stream",
          "name": "stdout",
          "text": [
            "5.249999999999999\n"
          ]
        },
        {
          "output_type": "display_data",
          "data": {
            "text/plain": [
              "<Figure size 432x288 with 1 Axes>"
            ],
            "image/png": "[encoded data removed]"
          },
          "metadata": {
            "needs_background": "light"
          }
        }
      ]
    },
    {
      "cell_type": "code",
      "source": [
        "#34725337"
      ],
      "metadata": {
        "id": "scLLgrwii1C7"
      },
      "execution_count": 5,
      "outputs": []
    },
    {
      "cell_type": "code",
      "source": [
        "import numpy as np\n",
        "import skfuzzy as fuzz\n",
        "from skfuzzy import control as ctrl"
      ],
      "metadata": {
        "id": "wQQEWpm6lO7H"
      },
      "execution_count": 6,
      "outputs": []
    },
    {
      "cell_type": "code",
      "source": [
        "fever=ctrl.Antecedent(np.arange(0,1,0.1),'fever=')\n",
        "headache=ctrl.Antecedent(np.arange(0,1,0.1),'headache')\n",
        "nausea=ctrl.Antecedent(np.arange(0,1,0.1),'nausea')\n",
        "vomiting=ctrl.Antecedent(np.arange(0,1,0.1),'vomiting')\n",
        "jaundice=ctrl.Antecedent(np.arange(0,1,0.1),'jaundice')\n",
        "enlarge_liver=ctrl.Antecedent(np.arange(0,1,0.1),'enlarge_liver')\n",
        "joint_pain=ctrl.Antecedent(np.arange(0,1,0.1),'joint_pain')\n",
        "body_weakness=ctrl.Antecedent(np.arange(0,1,0.1),'body_weakness')\n",
        "dizziness=ctrl.Antecedent(np.arange(0,1,0.1),'dizziness')\n",
        "loss_of_appetite=ctrl.Antecedent(np.arange(0,1,0.1),'loss_of_appetite')\n",
        "mp=ctrl.Antecedent(np.arange(0,1,0.1),'mp')\n",
        "conclusion=ctrl.Antecedent(np.arange(0,1,0.1),'conclusion')"
      ],
      "metadata": {
        "id": "s_cnqdjUnOaS"
      },
      "execution_count": null,
      "outputs": []
    }
  ]
}