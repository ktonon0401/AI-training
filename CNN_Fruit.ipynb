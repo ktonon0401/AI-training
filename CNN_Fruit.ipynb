{
  "nbformat": 4,
  "nbformat_minor": 0,
  "metadata": {
    "colab": {
      "name": "CNN_Fruit.ipynb",
      "provenance": [],
      "collapsed_sections": [],
      "mount_file_id": "1JADYztW4exIeU-S8RCkbWY0_ivVZDKkO",
      "authorship_tag": "ABX9TyMoxHhash5D9SkqMgvzwi1g",
      "include_colab_link": true
    },
    "kernelspec": {
      "name": "python3",
      "display_name": "Python 3"
    },
    "language_info": {
      "name": "python"
    }
  },
  "cells": [
    {
      "cell_type": "markdown",
      "metadata": {
        "id": "view-in-github",
        "colab_type": "text"
      },
      "source": [
        "<a href=\"https://colab.research.google.com/github/ktonon0401/AI-training/blob/main/CNN_Fruit.ipynb\" target=\"_parent\"><img src=\"https://colab.research.google.com/assets/colab-badge.svg\" alt=\"Open In Colab\"/></a>"
      ]
    },
    {
      "cell_type": "code",
      "execution_count": 36,
      "metadata": {
        "id": "jlaDEE8HYucN"
      },
      "outputs": [],
      "source": [
        "from tensorflow.keras.optimizers import SGD\n",
        "from tensorflow.keras.utils import to_categorical\n",
        "from keras.preprocessing.image import load_img,img_to_array\n",
        "import keras.callbacks\n",
        "import matplotlib.pyplot as plt\n",
        "import numpy as np\n",
        "import pandas as pd\n",
        "import os\n",
        "from keras.layers.convolutional import Conv2D,MaxPooling2D\n",
        "from keras.models import Sequential,load_model\n",
        "from keras.layers import Dense, Dropout, Flatten"
      ]
    },
    {
      "cell_type": "code",
      "source": [
        "dir_path = '/content/drive/MyDrive/AI_Colab/Data_fruits'\n",
        "path_img = []\n",
        "listdir = os.listdir(dir_path)\n",
        "labels = ['pitaya',\n",
        " 'apple',\n",
        " 'avocado',\n",
        " 'grapefruit',\n",
        " 'lychee',\n",
        " 'mangoteen',\n",
        " 'lemon',\n",
        " 'banana',\n",
        " 'orange',\n",
        " 'rambutan']\n",
        "x_train = []\n",
        "y_train = []"
      ],
      "metadata": {
        "id": "gqNqxAWl7fzr"
      },
      "execution_count": 38,
      "outputs": []
    },
    {
      "cell_type": "code",
      "source": [
        "w = 64\n",
        "h = 64\n",
        "for i in labels:\n",
        "  path_class = os.path.join(dir_path,i)\n",
        "  index_label = labels.index(i)\n",
        "  for j in os.listdir(path_class):\n",
        "    path_img = os.path.join(path_class,j)\n",
        "    img = load_img(path_img,target_size=(h,w))\n",
        "    img = img_to_array(img)\n",
        "    img = img.astype('float32')\n",
        "    img = img/255\n",
        "    x_train.append(img)\n",
        "    y_train.append(index_label)"
      ],
      "metadata": {
        "id": "kzFnBGraSyp4"
      },
      "execution_count": 39,
      "outputs": []
    },
    {
      "cell_type": "code",
      "source": [
        "x_train = np.array(x_train)\n",
        "y_train = np.array(y_train)\n",
        "y_train = to_categorical(y_train)"
      ],
      "metadata": {
        "id": "PgmvMQdQWlFA"
      },
      "execution_count": 40,
      "outputs": []
    },
    {
      "cell_type": "code",
      "source": [
        "# Initialize the CNN\n",
        "model = Sequential()\n",
        "# Convolution\n",
        "model.add(Conv2D(64,(3,3),activation='relu',kernel_initializer='he_uniform',padding='same',input_shape=(h,w,3)))\n",
        "# A second convolution layer\n",
        "model.add(Conv2D(64,(3,3),activation='relu',kernel_initializer='he_uniform',padding='same'))\n",
        "# A third convolution layer\n",
        "model.add(Conv2D(64,(3,3),activation='relu',kernel_initializer='he_uniform',padding='same'))\n",
        "# Pooling\n",
        "model.add(MaxPooling2D((2,2)))\n",
        "# Flattening\n",
        "model.add(Flatten())\n",
        "# Full connection\n",
        "model.add(Flatten())\n",
        "model.add(Dense(128,activation = 'relu',kernel_initializer='he_uniform'))\n",
        "model.add(Dense(128,activation = 'relu',kernel_initializer='he_uniform'))\n",
        "model.add(Dense(len(listdir),activation = 'softmax'))"
      ],
      "metadata": {
        "id": "goU9cckgXA-M"
      },
      "execution_count": 41,
      "outputs": []
    },
    {
      "cell_type": "code",
      "source": [
        "opt = SGD(learning_rate=0.001,momentum=0.9)\n",
        "model.compile(opt,loss='categorical_crossentropy',metrics=['accuracy'])\n",
        "history = model.fit(x_train,y_train,epochs=15,batch_size=64,verbose=1)"
      ],
      "metadata": {
        "colab": {
          "base_uri": "https://localhost:8080/"
        },
        "id": "PA7vDmHeXCaa",
        "outputId": "0c687bb0-204d-4aa5-9bb1-94990ebb3dee"
      },
      "execution_count": 42,
      "outputs": [
        {
          "output_type": "stream",
          "name": "stdout",
          "text": [
            "Epoch 1/15\n",
            "1/1 [==============================] - 3s 3s/step - loss: 2.5520 - accuracy: 0.1351\n",
            "Epoch 2/15\n",
            "1/1 [==============================] - 2s 2s/step - loss: 2.7168 - accuracy: 0.1351\n",
            "Epoch 3/15\n",
            "1/1 [==============================] - 2s 2s/step - loss: 2.3542 - accuracy: 0.2703\n",
            "Epoch 4/15\n",
            "1/1 [==============================] - 2s 2s/step - loss: 2.1521 - accuracy: 0.2162\n",
            "Epoch 5/15\n",
            "1/1 [==============================] - 2s 2s/step - loss: 2.2330 - accuracy: 0.1081\n",
            "Epoch 6/15\n",
            "1/1 [==============================] - 2s 2s/step - loss: 2.0460 - accuracy: 0.3514\n",
            "Epoch 7/15\n",
            "1/1 [==============================] - 2s 2s/step - loss: 1.9165 - accuracy: 0.3784\n",
            "Epoch 8/15\n",
            "1/1 [==============================] - 2s 2s/step - loss: 1.7852 - accuracy: 0.5135\n",
            "Epoch 9/15\n",
            "1/1 [==============================] - 2s 2s/step - loss: 1.6991 - accuracy: 0.5405\n",
            "Epoch 10/15\n",
            "1/1 [==============================] - 2s 2s/step - loss: 1.5831 - accuracy: 0.5676\n",
            "Epoch 11/15\n",
            "1/1 [==============================] - 2s 2s/step - loss: 1.3931 - accuracy: 0.6757\n",
            "Epoch 12/15\n",
            "1/1 [==============================] - 2s 2s/step - loss: 1.2331 - accuracy: 0.8378\n",
            "Epoch 13/15\n",
            "1/1 [==============================] - 2s 2s/step - loss: 1.0997 - accuracy: 0.9459\n",
            "Epoch 14/15\n",
            "1/1 [==============================] - 2s 2s/step - loss: 0.9656 - accuracy: 0.8919\n",
            "Epoch 15/15\n",
            "1/1 [==============================] - 2s 2s/step - loss: 0.7952 - accuracy: 0.9189\n"
          ]
        }
      ]
    },
    {
      "cell_type": "code",
      "source": [
        "pd.DataFrame(history.history).plot(figsize=(8,5))\n",
        "plt.grid(True)\n",
        "plt.gca().set_ylim(0,1)\n",
        "# model.summary()\n",
        "plt.show()"
      ],
      "metadata": {
        "colab": {
          "base_uri": "https://localhost:8080/",
          "height": 324
        },
        "id": "xoldWug0XENp",
        "outputId": "4a91ad1a-4df3-4313-a354-743cf4554e86"
      },
      "execution_count": 43,
      "outputs": [
        {
          "output_type": "display_data",
          "data": {
            "text/plain": [
              "<Figure size 576x360 with 1 Axes>"
            ],
            "image/png": "[encoded data removed]"
          },
          "metadata": {
            "needs_background": "light"
          }
        }
      ]
    },
    {
      "cell_type": "code",
      "source": [
        "model.save('/content/drive/MyDrive/AI_Colab/H5files/fruit.h5')\n",
        "model_pre=load_model('/content/drive/MyDrive/AI_Colab/H5files/fruit.h5')"
      ],
      "metadata": {
        "id": "MOu-DF5QXZbm"
      },
      "execution_count": 44,
      "outputs": []
    },
    {
      "cell_type": "code",
      "source": [
        "img=load_img('/content/drive/MyDrive/AI_Colab/Data_fruits/apple/apple_1.jpg',target_size=(h,w))\n",
        "plt.imshow(img)\n",
        "img=img_to_array(img)\n",
        "img=img.reshape(1,h,w,3)\n",
        "img=img.astype('float32')\n",
        "img=img/255\n",
        "img.shape"
      ],
      "metadata": {
        "colab": {
          "base_uri": "https://localhost:8080/",
          "height": 285
        },
        "id": "Ah9HszdaXepH",
        "outputId": "4c14c6d8-3e3d-4880-b99a-bd6c59e078aa"
      },
      "execution_count": 45,
      "outputs": [
        {
          "output_type": "execute_result",
          "data": {
            "text/plain": [
              "(1, 64, 64, 3)"
            ]
          },
          "metadata": {},
          "execution_count": 45
        },
        {
          "output_type": "display_data",
          "data": {
            "text/plain": [
              "<Figure size 432x288 with 1 Axes>"
            ],
            "image/png": "[encoded data removed]"
          },
          "metadata": {
            "needs_background": "light"
          }
        }
      ]
    },
    {
      "cell_type": "code",
      "source": [
        "arr = np.argmax(model_pre.predict(img),axis=1)\n",
        "# hinhnao = labels[index]\n",
        "index = arr.tolist()\n",
        "print(\"Fruit:\",labels[index[0]])"
      ],
      "metadata": {
        "colab": {
          "base_uri": "https://localhost:8080/"
        },
        "id": "5WmBN8iXXmpW",
        "outputId": "17476c28-e1bb-4931-8a88-12873d5127c3"
      },
      "execution_count": 46,
      "outputs": [
        {
          "output_type": "stream",
          "name": "stdout",
          "text": [
            "Fruit: apple\n"
          ]
        }
      ]
    },
    {
      "cell_type": "code",
      "source": [
        ""
      ],
      "metadata": {
        "id": "j_UUVIwEXrpN"
      },
      "execution_count": null,
      "outputs": []
    }
  ]
}