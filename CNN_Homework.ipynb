{
  "nbformat": 4,
  "nbformat_minor": 0,
  "metadata": {
    "colab": {
      "name": "CNN_Homework.ipynb",
      "provenance": [],
      "collapsed_sections": [],
      "mount_file_id": "13ee8eq4y2WMJUz3zSk5NDOfrn3OiJJql",
      "authorship_tag": "ABX9TyMSwDSkIF5n4Abujg+lpJ4Z",
      "include_colab_link": true
    },
    "kernelspec": {
      "name": "python3",
      "display_name": "Python 3"
    },
    "language_info": {
      "name": "python"
    },
    "accelerator": "GPU"
  },
  "cells": [
    {
      "cell_type": "markdown",
      "metadata": {
        "id": "view-in-github",
        "colab_type": "text"
      },
      "source": [
        "<a href=\"https://colab.research.google.com/github/ktonon0401/AI-training/blob/main/CNN_Homework.ipynb\" target=\"_parent\"><img src=\"https://colab.research.google.com/assets/colab-badge.svg\" alt=\"Open In Colab\"/></a>"
      ]
    },
    {
      "cell_type": "code",
      "execution_count": 3,
      "metadata": {
        "colab": {
          "base_uri": "https://localhost:8080/"
        },
        "id": "Hyulk7ngmBWs",
        "outputId": "0a923c14-8e87-467f-beaa-092105bcc38c"
      },
      "outputs": [
        {
          "output_type": "stream",
          "name": "stdout",
          "text": [
            "Downloading data from https://www.cs.toronto.edu/~kriz/cifar-100-python.tar.gz\n",
            "169009152/169001437 [==============================] - 2s 0us/step\n",
            "169017344/169001437 [==============================] - 2s 0us/step\n"
          ]
        }
      ],
      "source": [
        "from keras.datasets import cifar100\n",
        "(x_train,y_train),(x_test,y_test)=cifar100.load_data()"
      ]
    },
    {
      "cell_type": "code",
      "source": [
        "from tensorflow.keras.utils import to_categorical\n",
        "x_train = x_train.astype('float32')\n",
        "x_test = x_test.astype('float32')\n",
        "x_train /= 255\n",
        "x_test /= 255 #One hot encoding\n",
        "y_train = to_categorical(y_train,100)\n",
        "y_test = to_categorical(y_test,100)"
      ],
      "metadata": {
        "id": "NSbqbT8LmLwM"
      },
      "execution_count": 4,
      "outputs": []
    },
    {
      "cell_type": "code",
      "source": [
        "from keras.layers.convolutional import Conv2D,MaxPooling2D\n",
        "from keras.models import Sequential\n",
        "from keras.layers import Dense, Dropout, Flatten\n",
        "\n",
        "model = Sequential()\n",
        "model.add(Conv2D(32,(3,3),activation='relu',kernel_initializer='he_uniform',padding='same',input_shape=(32,32,3)))\n",
        "model.add(Conv2D(32,(3,3),activation='relu',kernel_initializer='he_uniform',padding='same'))\n",
        "model.add(MaxPooling2D((2,2)))\n",
        "\n",
        "model= Sequential()\n",
        "model.add(Conv2D(64,(3,3),activation='relu',kernel_initializer='he_uniform',padding='same'))\n",
        "model.add(Conv2D(64,(3,3),activation='relu',kernel_initializer='he_uniform',padding='same'))\n",
        "model.add(MaxPooling2D((2,2)))\n",
        "\n",
        "model= Sequential()\n",
        "model.add(Conv2D(128,(3,3),activation='relu',kernel_initializer='he_uniform',padding='same'))\n",
        "model.add(Conv2D(128,(3,3),activation='relu',kernel_initializer='he_uniform',padding='same'))\n",
        "model.add(MaxPooling2D((2,2)))\n",
        "\n",
        "model.add(Flatten())\n",
        "model.add(Dense(1024,activation = 'relu',kernel_initializer='he_uniform'))\n",
        "model.add(Dense(500,activation = 'relu',kernel_initializer='he_uniform'))\n",
        "model.add(Dense(100,activation = 'softmax'))\n"
      ],
      "metadata": {
        "id": "GXbZNUs2qkfi"
      },
      "execution_count": 5,
      "outputs": []
    },
    {
      "cell_type": "code",
      "source": [
        "from tensorflow.keras.optimizers import SGD\n",
        "from keras.utils import np_utils\n",
        "# from keras.datasets import mnist\n",
        "opt = SGD(learning_rate=0.01,momentum=0.9)\n",
        "model.compile(opt,loss='categorical_crossentropy',metrics=['accuracy'])\n",
        "history = model.fit(x_train,y_train,epochs=10,batch_size=64,validation_data=(x_test,y_test),verbose=1)\n"
      ],
      "metadata": {
        "colab": {
          "base_uri": "https://localhost:8080/"
        },
        "id": "T3QWIcNZruy-",
        "outputId": "c418c881-0442-41b2-e053-20c783ee3099"
      },
      "execution_count": 6,
      "outputs": [
        {
          "output_type": "stream",
          "name": "stdout",
          "text": [
            "Epoch 1/10\n",
            "782/782 [==============================] - 27s 22ms/step - loss: 3.7001 - accuracy: 0.1420 - val_loss: 3.2253 - val_accuracy: 0.2237\n",
            "Epoch 2/10\n",
            "782/782 [==============================] - 17s 22ms/step - loss: 2.7785 - accuracy: 0.3031 - val_loss: 2.6928 - val_accuracy: 0.3266\n",
            "Epoch 3/10\n",
            "782/782 [==============================] - 17s 22ms/step - loss: 2.1903 - accuracy: 0.4257 - val_loss: 2.4580 - val_accuracy: 0.3726\n",
            "Epoch 4/10\n",
            "782/782 [==============================] - 17s 22ms/step - loss: 1.6517 - accuracy: 0.5481 - val_loss: 2.4320 - val_accuracy: 0.3903\n",
            "Epoch 5/10\n",
            "782/782 [==============================] - 17s 22ms/step - loss: 1.0762 - accuracy: 0.6931 - val_loss: 2.7166 - val_accuracy: 0.3865\n",
            "Epoch 6/10\n",
            "782/782 [==============================] - 17s 22ms/step - loss: 0.5599 - accuracy: 0.8330 - val_loss: 3.2174 - val_accuracy: 0.3833\n",
            "Epoch 7/10\n",
            "782/782 [==============================] - 17s 22ms/step - loss: 0.2766 - accuracy: 0.9169 - val_loss: 3.6498 - val_accuracy: 0.3780\n",
            "Epoch 8/10\n",
            "782/782 [==============================] - 17s 22ms/step - loss: 0.1591 - accuracy: 0.9537 - val_loss: 4.0434 - val_accuracy: 0.3927\n",
            "Epoch 9/10\n",
            "782/782 [==============================] - 17s 22ms/step - loss: 0.0980 - accuracy: 0.9714 - val_loss: 4.1408 - val_accuracy: 0.3868\n",
            "Epoch 10/10\n",
            "782/782 [==============================] - 18s 23ms/step - loss: 0.0602 - accuracy: 0.9836 - val_loss: 4.4781 - val_accuracy: 0.3904\n"
          ]
        }
      ]
    },
    {
      "cell_type": "code",
      "source": [
        "from keras.preprocessing.image import load_img,img_to_array\n",
        "import matplotlib.pyplot as plt\n",
        "img=load_img('fish1.jpg',target_size=(32,32))\n",
        "plt.imshow(img)\n",
        "img=img_to_array(img)\n",
        "img=img.reshape(1,32,32,3)\n",
        "img=img.astype('float32')\n",
        "img=img/255\n",
        "img.shape"
      ],
      "metadata": {
        "colab": {
          "base_uri": "https://localhost:8080/",
          "height": 284
        },
        "id": "tvyc_YKnr-Ad",
        "outputId": "f8cceeb0-5a55-4842-95b7-3b71be8a764a"
      },
      "execution_count": 7,
      "outputs": [
        {
          "output_type": "execute_result",
          "data": {
            "text/plain": [
              "(1, 32, 32, 3)"
            ]
          },
          "metadata": {},
          "execution_count": 7
        },
        {
          "output_type": "display_data",
          "data": {
            "text/plain": [
              "<Figure size 432x288 with 1 Axes>"
            ],
            "image/png": "[encoded data removed]"
          },
          "metadata": {
            "needs_background": "light"
          }
        }
      ]
    },
    {
      "cell_type": "code",
      "source": [
        "model.save('final.hs')"
      ],
      "metadata": {
        "colab": {
          "base_uri": "https://localhost:8080/"
        },
        "id": "biEvSEKUtrhZ",
        "outputId": "b0aa0153-b21e-496e-820e-eb76fde8f9a7"
      },
      "execution_count": 8,
      "outputs": [
        {
          "output_type": "stream",
          "name": "stdout",
          "text": [
            "INFO:tensorflow:Assets written to: final.hs/assets\n"
          ]
        }
      ]
    },
    {
      "cell_type": "code",
      "source": [
        "from keras.models import Sequential,load_model\n",
        "model_pre=load_model('final.hs')"
      ],
      "metadata": {
        "id": "suXEt7l7tuD0"
      },
      "execution_count": 9,
      "outputs": []
    },
    {
      "cell_type": "code",
      "source": [
        "import numpy as np\n",
        "np.argmax(model_pre.predict(img),axis=1)"
      ],
      "metadata": {
        "colab": {
          "base_uri": "https://localhost:8080/"
        },
        "id": "B6vy5bgetwEB",
        "outputId": "de14a55e-4bfd-43b6-866f-efb1356f51c3"
      },
      "execution_count": 10,
      "outputs": [
        {
          "output_type": "execute_result",
          "data": {
            "text/plain": [
              "array([83])"
            ]
          },
          "metadata": {},
          "execution_count": 10
        }
      ]
    },
    {
      "cell_type": "code",
      "source": [
        ""
      ],
      "metadata": {
        "id": "l0TqyxDVt4PR"
      },
      "execution_count": null,
      "outputs": []
    }
  ]
}