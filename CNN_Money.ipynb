{
  "nbformat": 4,
  "nbformat_minor": 0,
  "metadata": {
    "colab": {
      "name": "CNN_Money.ipynb",
      "provenance": [],
      "collapsed_sections": [],
      "mount_file_id": "12JFVo9x47Rh7d-A_5ooLZVR3GdZbs6FS",
      "authorship_tag": "ABX9TyN55xMEGFR/f5XnjWma2nCN",
      "include_colab_link": true
    },
    "kernelspec": {
      "name": "python3",
      "display_name": "Python 3"
    },
    "language_info": {
      "name": "python"
    }
  },
  "cells": [
    {
      "cell_type": "markdown",
      "metadata": {
        "id": "view-in-github",
        "colab_type": "text"
      },
      "source": [
        "<a href=\"https://colab.research.google.com/github/ktonon0401/AI-training/blob/main/CNN_Money.ipynb\" target=\"_parent\"><img src=\"https://colab.research.google.com/assets/colab-badge.svg\" alt=\"Open In Colab\"/></a>"
      ]
    },
    {
      "cell_type": "code",
      "execution_count": 42,
      "metadata": {
        "id": "mBKcPVI14VFU"
      },
      "outputs": [],
      "source": [
        "from tensorflow.keras.optimizers import SGD\n",
        "from tensorflow.keras.utils import to_categorical\n",
        "from keras.preprocessing.image import load_img,img_to_array\n",
        "import keras.callbacks\n",
        "import matplotlib.pyplot as plt\n",
        "import numpy as np\n",
        "import pandas as pd\n",
        "import os\n",
        "from keras.layers.convolutional import Conv2D,MaxPooling2D\n",
        "from keras.models import Sequential,load_model\n",
        "from keras.layers import Dense, Dropout, Flatten"
      ]
    },
    {
      "cell_type": "code",
      "source": [
        "dir_path = '/content/drive/MyDrive/AI_Colab/Data_VNbanknotes'\n",
        "path_img = []\n",
        "\n",
        "listdir = os.listdir(dir_path)\n",
        "for i in range(len(listdir)):\n",
        "  listdir[i] = int(listdir[i])\n",
        "listdir.sort()\n",
        "for k in range(len(listdir)):\n",
        "  listdir[k] = str(listdir[k])\n",
        "\n",
        "labels = listdir\n",
        "x_train = []\n",
        "y_train = []"
      ],
      "metadata": {
        "id": "1Hhh1t5bX_hO"
      },
      "execution_count": 43,
      "outputs": []
    },
    {
      "cell_type": "code",
      "source": [
        "w = 80\n",
        "h = 40\n",
        "for i in labels:\n",
        "  path_class = os.path.join(dir_path,i)\n",
        "  index_label = labels.index(i)\n",
        "  for j in os.listdir(path_class):\n",
        "    path_img = os.path.join(path_class,j)\n",
        "    img = load_img(path_img,target_size=(h,w))\n",
        "    img = img_to_array(img)\n",
        "    img = img.astype('float32')\n",
        "    img = img/255\n",
        "    x_train.append(img)\n",
        "    y_train.append(index_label)"
      ],
      "metadata": {
        "id": "_RQ2heK7xn8I"
      },
      "execution_count": null,
      "outputs": []
    },
    {
      "cell_type": "code",
      "source": [
        "x_train = np.array(x_train)\n",
        "y_train = np.array(y_train)\n",
        "y_train = to_categorical(y_train)"
      ],
      "metadata": {
        "id": "aOCYb2PDbWg6"
      },
      "execution_count": null,
      "outputs": []
    },
    {
      "cell_type": "code",
      "source": [
        "# # Initialize the CNN\n",
        "# model = Sequential()\n",
        "# # Convolution\n",
        "# model.add(Conv2D(32,(3,3),activation='relu',kernel_initializer='he_uniform',padding='same',input_shape=(h,w,3)))\n",
        "# # A second convolution layer\n",
        "# model.add(Conv2D(32,(3,3),activation='relu',kernel_initializer='he_uniform',padding='same'))\n",
        "# # Pooling\n",
        "# model.add(MaxPooling2D((2,2)))\n",
        "\n",
        "# Initialize the CNN\n",
        "model = Sequential()\n",
        "# Convolution\n",
        "model.add(Conv2D(64,(3,3),activation='relu',kernel_initializer='he_uniform',padding='same',input_shape=(h,w,3)))\n",
        "# A second convolution layer\n",
        "model.add(Conv2D(64,(3,3),activation='relu',kernel_initializer='he_uniform',padding='same'))\n",
        "# A third convolution layer\n",
        "model.add(Conv2D(64,(3,3),activation='relu',kernel_initializer='he_uniform',padding='same'))\n",
        "# Pooling\n",
        "model.add(MaxPooling2D((2,2)))\n",
        "\n",
        "# # Initialize the CNN\n",
        "# model = Sequential()\n",
        "# # Convolution\n",
        "# model.add(Conv2D(128,(3,3),activation='relu',kernel_initializer='he_uniform',padding='same',input_shape=(h,w,3)))\n",
        "# # A second convolution layer\n",
        "# model.add(Conv2D(128,(3,3),activation='relu',kernel_initializer='he_uniform',padding='same'))\n",
        "# # A third convolution layer\n",
        "# model.add(Conv2D(128,(3,3),activation='relu',kernel_initializer='he_uniform',padding='same'))\n",
        "# # Pooling\n",
        "# model.add(MaxPooling2D((2,2)))\n",
        "\n",
        "# Flattening\n",
        "model.add(Flatten())\n",
        "# Full connection\n",
        "model.add(Flatten())\n",
        "model.add(Dense(128,activation = 'relu',kernel_initializer='he_uniform'))\n",
        "model.add(Dense(128,activation = 'relu',kernel_initializer='he_uniform'))\n",
        "model.add(Dense(len(listdir),activation = 'softmax'))\n"
      ],
      "metadata": {
        "id": "QJdfAU0-t4jj"
      },
      "execution_count": null,
      "outputs": []
    },
    {
      "cell_type": "code",
      "source": [
        "opt = SGD(learning_rate=0.001,momentum=0.9)\n",
        "model.compile(opt,loss='categorical_crossentropy',metrics=['accuracy'])\n",
        "history = model.fit(x_train,y_train,epochs=15,batch_size=64,verbose=1)"
      ],
      "metadata": {
        "colab": {
          "base_uri": "https://localhost:8080/"
        },
        "id": "bwlXzQN6vbHv",
        "outputId": "d7956b47-4ed6-487e-ff03-44cecfcfe8c8"
      },
      "execution_count": null,
      "outputs": [
        {
          "output_type": "stream",
          "name": "stdout",
          "text": [
            "Epoch 1/15\n",
            "1/1 [==============================] - 2s 2s/step - loss: 2.3293 - accuracy: 0.1400\n",
            "Epoch 2/15\n",
            "1/1 [==============================] - 2s 2s/step - loss: 2.1708 - accuracy: 0.2200\n",
            "Epoch 3/15\n",
            "1/1 [==============================] - 2s 2s/step - loss: 2.1290 - accuracy: 0.1800\n",
            "Epoch 4/15\n",
            "1/1 [==============================] - 2s 2s/step - loss: 2.0702 - accuracy: 0.2200\n",
            "Epoch 5/15\n",
            "1/1 [==============================] - 2s 2s/step - loss: 1.9605 - accuracy: 0.2800\n",
            "Epoch 6/15\n",
            "1/1 [==============================] - 2s 2s/step - loss: 1.8766 - accuracy: 0.3600\n",
            "Epoch 7/15\n",
            "1/1 [==============================] - 2s 2s/step - loss: 1.8317 - accuracy: 0.3200\n",
            "Epoch 8/15\n",
            "1/1 [==============================] - 2s 2s/step - loss: 1.7369 - accuracy: 0.5600\n",
            "Epoch 9/15\n",
            "1/1 [==============================] - 2s 2s/step - loss: 1.6857 - accuracy: 0.6600\n",
            "Epoch 10/15\n",
            "1/1 [==============================] - 2s 2s/step - loss: 1.6024 - accuracy: 0.6400\n",
            "Epoch 11/15\n",
            "1/1 [==============================] - 2s 2s/step - loss: 1.5079 - accuracy: 0.7000\n",
            "Epoch 12/15\n",
            "1/1 [==============================] - 2s 2s/step - loss: 1.4278 - accuracy: 0.6600\n",
            "Epoch 13/15\n",
            "1/1 [==============================] - 2s 2s/step - loss: 1.3334 - accuracy: 0.6800\n",
            "Epoch 14/15\n",
            "1/1 [==============================] - 2s 2s/step - loss: 1.2357 - accuracy: 0.8600\n",
            "Epoch 15/15\n",
            "1/1 [==============================] - 2s 2s/step - loss: 1.1417 - accuracy: 0.9200\n"
          ]
        }
      ]
    },
    {
      "cell_type": "code",
      "source": [
        "pd.DataFrame(history.history).plot(figsize=(8,5))\n",
        "plt.grid(True)\n",
        "plt.gca().set_ylim(0,1)\n",
        "# model.summary()\n",
        "plt.show()"
      ],
      "metadata": {
        "colab": {
          "base_uri": "https://localhost:8080/",
          "height": 235
        },
        "id": "CGsiGHjzmtiv",
        "outputId": "ab5766a2-c456-429b-e466-fee4f0eda1ac"
      },
      "execution_count": null,
      "outputs": [
        {
          "output_type": "error",
          "ename": "NameError",
          "evalue": "ignored",
          "traceback": [
            "\u001b[0;31m---------------------------------------------------------------------------\u001b[0m",
            "\u001b[0;31mNameError\u001b[0m                                 Traceback (most recent call last)",
            "\u001b[0;32m<ipython-input-13-2d59786c3cf0>\u001b[0m in \u001b[0;36m<module>\u001b[0;34m()\u001b[0m\n\u001b[0;32m----> 1\u001b[0;31m \u001b[0mpd\u001b[0m\u001b[0;34m.\u001b[0m\u001b[0mDataFrame\u001b[0m\u001b[0;34m(\u001b[0m\u001b[0mhistory\u001b[0m\u001b[0;34m.\u001b[0m\u001b[0mhistory\u001b[0m\u001b[0;34m)\u001b[0m\u001b[0;34m.\u001b[0m\u001b[0mplot\u001b[0m\u001b[0;34m(\u001b[0m\u001b[0mfigsize\u001b[0m\u001b[0;34m=\u001b[0m\u001b[0;34m(\u001b[0m\u001b[0;36m8\u001b[0m\u001b[0;34m,\u001b[0m\u001b[0;36m5\u001b[0m\u001b[0;34m)\u001b[0m\u001b[0;34m)\u001b[0m\u001b[0;34m\u001b[0m\u001b[0;34m\u001b[0m\u001b[0m\n\u001b[0m\u001b[1;32m      2\u001b[0m \u001b[0mplt\u001b[0m\u001b[0;34m.\u001b[0m\u001b[0mgrid\u001b[0m\u001b[0;34m(\u001b[0m\u001b[0;32mTrue\u001b[0m\u001b[0;34m)\u001b[0m\u001b[0;34m\u001b[0m\u001b[0;34m\u001b[0m\u001b[0m\n\u001b[1;32m      3\u001b[0m \u001b[0mplt\u001b[0m\u001b[0;34m.\u001b[0m\u001b[0mgca\u001b[0m\u001b[0;34m(\u001b[0m\u001b[0;34m)\u001b[0m\u001b[0;34m.\u001b[0m\u001b[0mset_ylim\u001b[0m\u001b[0;34m(\u001b[0m\u001b[0;36m0\u001b[0m\u001b[0;34m,\u001b[0m\u001b[0;36m1\u001b[0m\u001b[0;34m)\u001b[0m\u001b[0;34m\u001b[0m\u001b[0;34m\u001b[0m\u001b[0m\n\u001b[1;32m      4\u001b[0m \u001b[0;31m# model.summary()\u001b[0m\u001b[0;34m\u001b[0m\u001b[0;34m\u001b[0m\u001b[0;34m\u001b[0m\u001b[0m\n\u001b[1;32m      5\u001b[0m \u001b[0mplt\u001b[0m\u001b[0;34m.\u001b[0m\u001b[0mshow\u001b[0m\u001b[0;34m(\u001b[0m\u001b[0;34m)\u001b[0m\u001b[0;34m\u001b[0m\u001b[0;34m\u001b[0m\u001b[0m\n",
            "\u001b[0;31mNameError\u001b[0m: name 'history' is not defined"
          ]
        }
      ]
    },
    {
      "cell_type": "code",
      "source": [
        "# model.save('/content/drive/MyDrive/AI_Colab/H5files/money_test.h5')\n",
        "model_pre=load_model('/content/drive/MyDrive/AI_Colab/H5files/money.h5')"
      ],
      "metadata": {
        "id": "p6JOEeeK4PWY"
      },
      "execution_count": null,
      "outputs": []
    },
    {
      "cell_type": "code",
      "source": [
        "img=load_img('/content/drive/MyDrive/AI_Colab/Data_VNbanknotes/200000/200000_5.jpg',target_size=(h,w))\n",
        "plt.imshow(img)\n",
        "img=img_to_array(img)\n",
        "img=img.reshape(1,h,w,3)\n",
        "img=img.astype('float32')\n",
        "img=img/255\n",
        "img.shape"
      ],
      "metadata": {
        "colab": {
          "base_uri": "https://localhost:8080/",
          "height": 234
        },
        "id": "vvNQCWRiv1AI",
        "outputId": "ca4cc9cc-a259-42f3-94c9-40105981abcd"
      },
      "execution_count": null,
      "outputs": [
        {
          "output_type": "execute_result",
          "data": {
            "text/plain": [
              "(1, 40, 80, 3)"
            ]
          },
          "metadata": {},
          "execution_count": 40
        },
        {
          "output_type": "display_data",
          "data": {
            "text/plain": [
              "<Figure size 432x288 with 1 Axes>"
            ],
            "image/png": "[encoded data removed]"
          },
          "metadata": {
            "needs_background": "light"
          }
        }
      ]
    },
    {
      "cell_type": "code",
      "source": [
        "arr = np.argmax(model_pre.predict(img),axis=1)\n",
        "# hinhnao = labels[index]\n",
        "index = arr.tolist()\n",
        "print(\"Predict:\",labels[index[0]],\"VND\")"
      ],
      "metadata": {
        "colab": {
          "base_uri": "https://localhost:8080/"
        },
        "id": "7h_aRztmzUFw",
        "outputId": "d8eb9c50-e70f-46eb-f3f4-ed5495d8e0bb"
      },
      "execution_count": null,
      "outputs": [
        {
          "output_type": "stream",
          "name": "stdout",
          "text": [
            "Predict: 200000 VND\n"
          ]
        }
      ]
    },
    {
      "cell_type": "code",
      "source": [
        ""
      ],
      "metadata": {
        "id": "j6zB82WKzb2L"
      },
      "execution_count": null,
      "outputs": []
    }
  ]
}